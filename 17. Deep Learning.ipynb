{
 "cells": [
  {
   "cell_type": "code",
   "execution_count": 1,
   "metadata": {},
   "outputs": [],
   "source": [
    "import numpy as np\n",
    "import pandas as pd\n",
    "from sklearn.preprocessing import MinMaxScaler\n",
    "from keras.models import Sequential\n",
    "from keras.layers import *\n",
    "import matplotlib.pyplot as plt"
   ]
  },
  {
   "cell_type": "code",
   "execution_count": 2,
   "metadata": {},
   "outputs": [],
   "source": [
    "# Generate training data\n",
    "x = np.linspace(0.0,2*np.pi,20)\n",
    "y = np.sin(x)\n",
    "\n",
    "# Save training data to file\n",
    "data = np.vstack((x,y)).T\n",
    "np.savetxt('train_data.csv',data,header='x,y',comments = '',delimiter =',')"
   ]
  },
  {
   "cell_type": "code",
   "execution_count": 7,
   "metadata": {},
   "outputs": [],
   "source": [
    "# Generate test data\n",
    "x = np.linspace(0.0,2*np.pi,100)\n",
    "y = np.sin(x)\n",
    "\n",
    "# Save test data to file\n",
    "data = np.vstack((x,y)).T\n",
    "np.savetxt('test_data.csv',data,header='x,y',comments = '',delimiter =',')"
   ]
  },
  {
   "cell_type": "code",
   "execution_count": 10,
   "metadata": {},
   "outputs": [],
   "source": [
    "# Scale data\n",
    "\n",
    "#load training and test data with pandas\n",
    "train_df = pd.read_csv('train_data.csv')\n",
    "test_df = pd.read_csv('test_data.csv')\n",
    "\n",
    "# Scale values from \n",
    "s = MinMaxScaler(feature_range=(0,1))\n",
    "\n",
    "# Scale training and test data\n",
    "sc_train = s.fit_transform(train_df)\n",
    "sc_test = s.fit_transform(test_df)\n"
   ]
  },
  {
   "cell_type": "code",
   "execution_count": 14,
   "metadata": {},
   "outputs": [
    {
     "name": "stdout",
     "output_type": "stream",
     "text": [
      "Scalar multipliers\n",
      "[0.15915494 0.50006294]\n",
      "Scalar minimum\n",
      "[0.  0.5]\n"
     ]
    }
   ],
   "source": [
    "# Print scaling adjustments\n",
    "print('Scalar multipliers')\n",
    "print(s.scale_)\n",
    "print('Scalar minimum')\n",
    "print(s.min_)"
   ]
  },
  {
   "cell_type": "code",
   "execution_count": 15,
   "metadata": {},
   "outputs": [],
   "source": [
    "# Convert scaled values bact to dataframe\n",
    "sc_train_df = pd.DataFrame(sc_train,columns = train_df.columns.values)\n",
    "sc_test_df = pd.DataFrame(sc_test,columns = test_df.columns.values)"
   ]
  },
  {
   "cell_type": "code",
   "execution_count": 16,
   "metadata": {},
   "outputs": [],
   "source": [
    "# Save scaled values to CSV files\n",
    "sc_train_df.to_csv('train_scaled.csv',index=False)\n",
    "sc_test_df.to_csv('test_scaled.csv',index=False)"
   ]
  },
  {
   "cell_type": "code",
   "execution_count": 17,
   "metadata": {},
   "outputs": [],
   "source": [
    "# Train model\n",
    "\n",
    "model = Sequential()\n",
    "model.add(Dense(1, input_dim = 1, activation = 'linear'))\n",
    "model.add(Dense(2, activation = 'linear'))\n",
    "model.add(Dense(2, activation = 'tanh'))\n",
    "model.add(Dense(2, activation = 'linear'))\n",
    "model.add(Dense(1,activation = 'linear'))\n",
    "model.compile(loss = 'mean_squared_error',optimizer ='adam') #minimize "
   ]
  },
  {
   "cell_type": "code",
   "execution_count": 18,
   "metadata": {},
   "outputs": [
    {
     "data": {
      "text/plain": [
       "<tensorflow.python.keras.callbacks.History at 0x6f6f0d2730>"
      ]
     },
     "execution_count": 18,
     "metadata": {},
     "output_type": "execute_result"
    }
   ],
   "source": [
    "# Load training data\n",
    "train_df = pd.read_csv('train_scaled.csv')\n",
    "X1 = train_df.drop('y',axis = 1).values\n",
    "Y1 = train_df[['y']].values\n",
    "\n",
    "# Train the model\n",
    "model.fit(X1, Y1, epochs = 5000, verbose = 0, shuffle =True)"
   ]
  },
  {
   "cell_type": "code",
   "execution_count": null,
   "metadata": {},
   "outputs": [],
   "source": [
    "# Save the model to hard drive\n",
    "#model.save('model.h5')"
   ]
  },
  {
   "cell_type": "code",
   "execution_count": 19,
   "metadata": {},
   "outputs": [],
   "source": [
    "# Load test data\n",
    "test_df = pd.read_csv('test_scaled.csv')\n",
    "X2 = test_df.drop('y',axis=1).values\n",
    "Y2 = test_df[['y']].values"
   ]
  },
  {
   "cell_type": "code",
   "execution_count": 20,
   "metadata": {},
   "outputs": [
    {
     "name": "stdout",
     "output_type": "stream",
     "text": [
      "4/4 [==============================] - 11s 71ms/step - loss: 2.1793e-04\n",
      "Mean Squared Error 0.0002179267321480438\n"
     ]
    }
   ],
   "source": [
    "#test the model\n",
    "mse = model.evaluate(X2,Y2,verbose = 1)\n",
    "print('Mean Squared Error',mse)"
   ]
  },
  {
   "cell_type": "code",
   "execution_count": 22,
   "metadata": {},
   "outputs": [],
   "source": [
    "# Prediction outside training region\n",
    "# Generate prediction data\n",
    "x = np.linspace(-2*np.pi,4*np.pi,100)\n",
    "y = np.sin(x)\n",
    "\n",
    "# Scale input: we apply the scale ourselve\n",
    "X3 = x * s.scale_[0]+s.min_[0]\n",
    "Y3P = model.predict(X3)\n",
    "\n",
    "# Unscale output\n",
    "yp = (Y3P - s.min_[1])/s.scale_[1]"
   ]
  },
  {
   "cell_type": "code",
   "execution_count": 23,
   "metadata": {},
   "outputs": [
    {
     "data": {
      "image/png": "[encoded data removed]",
      "text/plain": [
       "<Figure size 432x288 with 1 Axes>"
      ]
     },
     "metadata": {
      "needs_background": "light"
     },
     "output_type": "display_data"
    }
   ],
   "source": [
    "plt.figure()\n",
    "plt.plot((X1 - s.min_[0])/s.scale_[0], \\\n",
    "         (Y1 - s.min_[1])/s.scale_[1], \\\n",
    "          'bo', label='train')\n",
    "plt.plot(x,y,'r-',label='actual')\n",
    "plt.plot(x,yp,'k--',label='predict')\n",
    "plt.legend(loc='best')\n",
    "#plt.savefig('results.png')\n",
    "plt.show()"
   ]
  },
  {
   "cell_type": "code",
   "execution_count": null,
   "metadata": {},
   "outputs": [],
   "source": []
  }
 ],
 "metadata": {
  "kernelspec": {
   "display_name": "Python 3",
   "language": "python",
   "name": "python3"
  },
  "language_info": {
   "codemirror_mode": {
    "name": "ipython",
    "version": 3
   },
   "file_extension": ".py",
   "mimetype": "text/x-python",
   "name": "python",
   "nbconvert_exporter": "python",
   "pygments_lexer": "ipython3",
   "version": "3.8.5"
  }
 },
 "nbformat": 4,
 "nbformat_minor": 4
}
