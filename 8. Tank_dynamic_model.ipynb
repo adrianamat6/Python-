{
 "cells": [
  {
   "cell_type": "code",
   "execution_count": 1,
   "metadata": {},
   "outputs": [],
   "source": [
    "import numpy as np\n",
    "import matplotlib.pyplot as plt\n",
    "from scipy.integrate import odeint"
   ]
  },
  {
   "cell_type": "code",
   "execution_count": 7,
   "metadata": {},
   "outputs": [
    {
     "data": {
      "text/plain": [
       "Text(0,0.5,'Valve')"
      ]
     },
     "execution_count": 7,
     "metadata": {},
     "output_type": "execute_result"
    },
    {
     "data": {
      "image/png": "[encoded data removed]",
      "text/plain": [
       "<matplotlib.figure.Figure at 0x19f2354e0>"
      ]
     },
     "metadata": {},
     "output_type": "display_data"
    }
   ],
   "source": [
    "# define tank model\n",
    "def tank(Level,time,c,valve):\n",
    "    rho = 1000 # water density\n",
    "    A = 1\n",
    "    \n",
    "    dLevel_dt = (c/(rho*A))*valve\n",
    "    return dLevel_dt\n",
    "\n",
    "ts = np.linspace(0,10,101)\n",
    "\n",
    "# valve operation\n",
    "c = 50 #valve coefficient [kg/s/%open]\n",
    "u = np.zeros(101) # u= valve %open\n",
    "u[21:70] = 100 # open valve between 2 and 7 seconds\n",
    "\n",
    "#level initial condition\n",
    "Level0 = 0\n",
    "\n",
    "z = np.zeros(101)\n",
    "\n",
    "for i in range (100):\n",
    "    valve = u[i+1]\n",
    "    y = odeint(tank,Level0,[0,0.1],args =(c,valve))\n",
    "    Level0 = y[-1]  #take the last point\n",
    "    z[i+1] = Level0 # store the level for plotting\n",
    "    \n",
    "#plot\n",
    "plt.figure()\n",
    "plt.subplot(2,1,1)\n",
    "plt.plot(ts,z,'b-',linewidth=3)\n",
    "plt.ylabel('Tank Level')\n",
    "plt.subplot(2,1,2)\n",
    "plt.plot(ts,u,'r--', linewidth=3)\n",
    "plt.ylabel('Valve')\n"
   ]
  },
  {
   "cell_type": "code",
   "execution_count": null,
   "metadata": {},
   "outputs": [],
   "source": []
  }
 ],
 "metadata": {
  "kernelspec": {
   "display_name": "Python 3",
   "language": "python",
   "name": "python3"
  },
  "language_info": {
   "codemirror_mode": {
    "name": "ipython",
    "version": 3
   },
   "file_extension": ".py",
   "mimetype": "text/x-python",
   "name": "python",
   "nbconvert_exporter": "python",
   "pygments_lexer": "ipython3",
   "version": "3.6.4"
  }
 },
 "nbformat": 4,
 "nbformat_minor": 2
}
